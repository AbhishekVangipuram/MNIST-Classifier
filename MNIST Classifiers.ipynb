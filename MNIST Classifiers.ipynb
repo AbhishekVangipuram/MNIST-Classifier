{
 "cells": [
  {
   "cell_type": "code",
   "execution_count": 1,
   "metadata": {},
   "outputs": [],
   "source": [
    "import torch\n",
    "import torchvision\n",
    "import torch.nn as nn\n",
    "import torch.optim as optim\n",
    "from torch.utils.data import DataLoader\n",
    "from torch.utils.data import sampler\n",
    "import torchvision.datasets as dset\n",
    "import torchvision.transforms as T\n",
    "import torch.nn.functional as F\n",
    "\n",
    "import numpy as np\n",
    "import matplotlib.pyplot as plt"
   ]
  },
  {
   "cell_type": "code",
   "execution_count": 2,
   "metadata": {},
   "outputs": [],
   "source": [
    "%matplotlib inline\n",
    "%load_ext autoreload\n",
    "%autoreload 2"
   ]
  },
  {
   "cell_type": "code",
   "execution_count": 3,
   "metadata": {},
   "outputs": [
    {
     "name": "stdout",
     "output_type": "stream",
     "text": [
      "Current CUDA Device: 0\n",
      "Device object: <torch.cuda.device object at 0x000001E1B3D780D0>\n",
      "Device count: 1\n",
      "Device name: GeForce GTX 1070\n",
      "CUDA Available: True\n"
     ]
    }
   ],
   "source": [
    "dtype = torch.float32\n",
    "device = torch.device('cuda:0')\n",
    "\n",
    "print(\"Current CUDA Device:\", torch.cuda.current_device())\n",
    "\n",
    "print(\"Device object:\", torch.cuda.device(0))\n",
    "\n",
    "print(\"Device count:\", torch.cuda.device_count())\n",
    "\n",
    "print(\"Device name:\", torch.cuda.get_device_name(0))\n",
    "\n",
    "print(\"CUDA Available:\", torch.cuda.is_available())"
   ]
  },
  {
   "cell_type": "code",
   "execution_count": 4,
   "metadata": {},
   "outputs": [],
   "source": [
    "transform = T.Compose([\n",
    "    T.ToTensor(),\n",
    "    T.Normalize((0.4), (0.2))\n",
    "])\n",
    "\n",
    "# MNIST has 70,000 images\n",
    "# We use 60,000 images. At test time, we will use the other 10,000 images.\n",
    "NUM_TRAIN = 57000\n",
    "\n",
    "mnist_train = dset.MNIST('./datasets', train=True, download=True,\n",
    "                             transform=transform)\n",
    "loader_train = DataLoader(mnist_train, batch_size=64, \n",
    "                          sampler=sampler.SubsetRandomSampler(range(NUM_TRAIN)))\n",
    "\n",
    "mnist_val = dset.MNIST('./datasets', train=True, download=True,\n",
    "                           transform=transform)\n",
    "loader_val = DataLoader(mnist_val, batch_size=64, \n",
    "                        sampler=sampler.SubsetRandomSampler(range(NUM_TRAIN, 60000)))\n",
    "\n",
    "mnist_test = dset.MNIST('./datasets', train=False, download=True, \n",
    "                            transform=transform)\n",
    "loader_test = DataLoader(mnist_test, batch_size=64)"
   ]
  },
  {
   "cell_type": "code",
   "execution_count": 5,
   "metadata": {},
   "outputs": [],
   "source": [
    "model_conv = nn.Sequential(\n",
    "    nn.Conv2d(1, 32, kernel_size=3, padding=1),\n",
    "    nn.LeakyReLU(),\n",
    "    nn.Conv2d(32,64,kernel_size=3, padding=1),\n",
    "    nn.LeakyReLU(),\n",
    "    nn.MaxPool2d(kernel_size=(2,2), stride=(2,2)), # (N, 64, 14, 14)\n",
    "    \n",
    "    nn.BatchNorm2d(64),\n",
    "    nn.LeakyReLU(),\n",
    "    nn.Conv2d(64, 64, kernel_size=3, padding=1),\n",
    "    nn.LeakyReLU(),\n",
    "    nn.MaxPool2d(kernel_size=(2,2), stride=(2,2)), # (N, 64, 7, 7)\n",
    "    \n",
    "    nn.Flatten(),\n",
    "    nn.Linear(64*7*7, 64*4*4),\n",
    "    nn.ReLU(),\n",
    "    nn.Linear(64*4*4, 128),\n",
    "    nn.ReLU(),\n",
    "    nn.Linear(128,10),\n",
    "    nn.Dropout(0.3)    \n",
    ").to(device)\n",
    "\n",
    "conv_optim = optim.Adam(model_conv.parameters(), weight_decay = 1e-2)"
   ]
  },
  {
   "cell_type": "code",
   "execution_count": 6,
   "metadata": {},
   "outputs": [],
   "source": [
    "model_fc = nn.Sequential(\n",
    "    nn.Flatten(),\n",
    "    nn.Linear(28*28, 512),\n",
    "    nn.ReLU(),\n",
    "    nn.Linear(512, 256),\n",
    "    nn.ReLU(),\n",
    "    nn.Dropout(0.3),\n",
    "    nn.Linear(256, 10)\n",
    ").to(device=device, dtype=dtype)\n",
    "\n",
    "fc_optim = optim.Adam(model_fc.parameters(), weight_decay = 1e-3)"
   ]
  },
  {
   "cell_type": "code",
   "execution_count": 7,
   "metadata": {},
   "outputs": [],
   "source": [
    "def check_accuracy(loader, model, out=True):\n",
    "    if loader.dataset.train and out:\n",
    "        print('Checking accuracy on validation set')\n",
    "    elif out:\n",
    "        print('Checking accuracy on test set')   \n",
    "    num_correct = 0\n",
    "    num_samples = 0\n",
    "    model.eval()  # set model to evaluation mode\n",
    "    with torch.no_grad():\n",
    "        for x, y in loader:\n",
    "            x = x.to(device=device, dtype=dtype)  # move to device, e.g. GPU\n",
    "            y = y.to(device=device, dtype=torch.long)\n",
    "            scores = model(x)\n",
    "            _, preds = scores.max(1)\n",
    "            num_correct += (preds == y).sum()\n",
    "            num_samples += preds.size(0)\n",
    "        acc = float(num_correct) / num_samples\n",
    "        if out:\n",
    "            print(f'Got {num_correct} / {num_samples} correct (%.2f)' % (100 * acc))\n",
    "        return acc\n"
   ]
  },
  {
   "cell_type": "code",
   "execution_count": 8,
   "metadata": {},
   "outputs": [],
   "source": [
    "def train_model(model, optimizer, loadert, loaderv, epochs=1, print_every=100):\n",
    "    loss_hist = []\n",
    "    train_acc_hist = []\n",
    "    val_acc_hist = []\n",
    "    running_loss,acct, accv = 0, 0, 0 \n",
    "    for e in range(epochs):\n",
    "        print(f\"----------  Epoch {e}  ----------\\n\")\n",
    "        for t, (x,y) in enumerate(loadert):\n",
    "            x = x.to(device=device, dtype=dtype)\n",
    "            y = y.to(device=device, dtype=torch.long)\n",
    "            \n",
    "            scores = model(x)\n",
    "            loss = F.cross_entropy(scores, y)\n",
    "            \n",
    "            optimizer.zero_grad()\n",
    "            loss.backward()\n",
    "            optimizer.step()\n",
    "            \n",
    "            running_loss += loss.item()\n",
    "            if t % 10 == 0:\n",
    "                loss_hist.append(running_loss / 10)\n",
    "                running_loss = 0\n",
    "                \n",
    "            if t % print_every == 0:\n",
    "                print(f\"Iteration {t}: Loss = {loss.item()}\")\n",
    "                check_accuracy(loaderv, model)\n",
    "                print()\n",
    "        \n",
    "        acct = check_accuracy(loadert, model, out=False)\n",
    "        accv = check_accuracy(loaderv, model, out=True)\n",
    "        train_acc_hist.append(acct)\n",
    "        val_acc_hist.append(accv)\n",
    "    \n",
    "    \n",
    "    return loss_hist, train_acc_hist, val_acc_hist\n",
    "            "
   ]
  },
  {
   "cell_type": "code",
   "execution_count": 9,
   "metadata": {
    "scrolled": false
   },
   "outputs": [
    {
     "name": "stdout",
     "output_type": "stream",
     "text": [
      "----------  Epoch 0  ----------\n",
      "\n",
      "Iteration 0: Loss = 2.330815315246582\n",
      "Checking accuracy on validation set\n",
      "Got 981 / 3000 correct (32.70)\n",
      "\n",
      "Iteration 500: Loss = 0.26650315523147583\n",
      "Checking accuracy on validation set\n",
      "Got 2881 / 3000 correct (96.03)\n",
      "\n",
      "Checking accuracy on validation set\n",
      "Got 2857 / 3000 correct (95.23)\n",
      "----------  Epoch 1  ----------\n",
      "\n",
      "Iteration 0: Loss = 0.1784309595823288\n",
      "Checking accuracy on validation set\n",
      "Got 2870 / 3000 correct (95.67)\n",
      "\n",
      "Iteration 500: Loss = 0.14977076649665833\n",
      "Checking accuracy on validation set\n",
      "Got 2899 / 3000 correct (96.63)\n",
      "\n",
      "Checking accuracy on validation set\n",
      "Got 2916 / 3000 correct (97.20)\n",
      "----------  Epoch 2  ----------\n",
      "\n",
      "Iteration 0: Loss = 0.044436462223529816\n",
      "Checking accuracy on validation set\n",
      "Got 2910 / 3000 correct (97.00)\n",
      "\n",
      "Iteration 500: Loss = 0.19211100041866302\n",
      "Checking accuracy on validation set\n",
      "Got 2928 / 3000 correct (97.60)\n",
      "\n",
      "Checking accuracy on validation set\n",
      "Got 2926 / 3000 correct (97.53)\n",
      "----------  Epoch 3  ----------\n",
      "\n",
      "Iteration 0: Loss = 0.21048450469970703\n",
      "Checking accuracy on validation set\n",
      "Got 2939 / 3000 correct (97.97)\n",
      "\n",
      "Iteration 500: Loss = 0.051875241100788116\n",
      "Checking accuracy on validation set\n",
      "Got 2925 / 3000 correct (97.50)\n",
      "\n",
      "Checking accuracy on validation set\n",
      "Got 2938 / 3000 correct (97.93)\n",
      "----------  Epoch 4  ----------\n",
      "\n",
      "Iteration 0: Loss = 0.0784621313214302\n",
      "Checking accuracy on validation set\n",
      "Got 2939 / 3000 correct (97.97)\n",
      "\n",
      "Iteration 500: Loss = 0.1469404697418213\n",
      "Checking accuracy on validation set\n",
      "Got 2930 / 3000 correct (97.67)\n",
      "\n",
      "Checking accuracy on validation set\n",
      "Got 2937 / 3000 correct (97.90)\n",
      "----------  Epoch 5  ----------\n",
      "\n",
      "Iteration 0: Loss = 0.10561288148164749\n",
      "Checking accuracy on validation set\n",
      "Got 2936 / 3000 correct (97.87)\n",
      "\n",
      "Iteration 500: Loss = 0.05411137267947197\n",
      "Checking accuracy on validation set\n",
      "Got 2924 / 3000 correct (97.47)\n",
      "\n",
      "Checking accuracy on validation set\n",
      "Got 2915 / 3000 correct (97.17)\n",
      "----------  Epoch 6  ----------\n",
      "\n",
      "Iteration 0: Loss = 0.047688718885183334\n",
      "Checking accuracy on validation set\n",
      "Got 2912 / 3000 correct (97.07)\n",
      "\n",
      "Iteration 500: Loss = 0.14045898616313934\n",
      "Checking accuracy on validation set\n",
      "Got 2938 / 3000 correct (97.93)\n",
      "\n",
      "Checking accuracy on validation set\n",
      "Got 2917 / 3000 correct (97.23)\n",
      "----------  Epoch 7  ----------\n",
      "\n",
      "Iteration 0: Loss = 0.09393791854381561\n",
      "Checking accuracy on validation set\n",
      "Got 2915 / 3000 correct (97.17)\n",
      "\n",
      "Iteration 500: Loss = 0.032262206077575684\n",
      "Checking accuracy on validation set\n",
      "Got 2930 / 3000 correct (97.67)\n",
      "\n",
      "Checking accuracy on validation set\n",
      "Got 2932 / 3000 correct (97.73)\n",
      "----------  Epoch 8  ----------\n",
      "\n",
      "Iteration 0: Loss = 0.047924622893333435\n",
      "Checking accuracy on validation set\n",
      "Got 2935 / 3000 correct (97.83)\n",
      "\n",
      "Iteration 500: Loss = 0.018720107153058052\n",
      "Checking accuracy on validation set\n",
      "Got 2938 / 3000 correct (97.93)\n",
      "\n",
      "Checking accuracy on validation set\n",
      "Got 2912 / 3000 correct (97.07)\n",
      "----------  Epoch 9  ----------\n",
      "\n",
      "Iteration 0: Loss = 0.11017660796642303\n",
      "Checking accuracy on validation set\n",
      "Got 2926 / 3000 correct (97.53)\n",
      "\n",
      "Iteration 500: Loss = 0.048459675163030624\n",
      "Checking accuracy on validation set\n",
      "Got 2929 / 3000 correct (97.63)\n",
      "\n",
      "Checking accuracy on validation set\n",
      "Got 2934 / 3000 correct (97.80)\n"
     ]
    }
   ],
   "source": [
    "loss_hist_fc, train_hist_fc, val_hist_fc = train_model(model_fc, fc_optim, loader_train, loader_val, epochs=10, print_every=500)"
   ]
  },
  {
   "cell_type": "code",
   "execution_count": 10,
   "metadata": {
    "scrolled": false
   },
   "outputs": [
    {
     "data": {
      "image/png": "[encoded data removed]",
      "text/plain": [
       "<Figure size 432x288 with 1 Axes>"
      ]
     },
     "metadata": {
      "needs_background": "light"
     },
     "output_type": "display_data"
    },
    {
     "data": {
      "image/png": "[encoded data removed]",
      "text/plain": [
       "<Figure size 432x288 with 1 Axes>"
      ]
     },
     "metadata": {
      "needs_background": "light"
     },
     "output_type": "display_data"
    }
   ],
   "source": [
    "plt.figure(1)\n",
    "# plt.subplot(211)\n",
    "plt.plot(loss_hist_fc, label=\"Training Loss\")\n",
    "plt.legend(loc=\"upper right\")\n",
    "plt.ylabel(\"Loss\")\n",
    "plt.xlabel(\"Iterations\")\n",
    "plt.show()\n",
    "\n",
    "plt.figure(2)\n",
    "# plt.subplot(212)\n",
    "plt.plot(train_hist_fc, label=\"Train Accuracy\")\n",
    "plt.plot(val_hist_fc, label=\"Val Accuracy\")\n",
    "plt.legend(loc = \"upper left\")\n",
    "#plt.axis(ymin=0.0,ymax=1.0)\n",
    "plt.ylabel(\"Accuracy\")\n",
    "plt.xlabel(\"Epochs\")\n",
    "plt.show()"
   ]
  },
  {
   "cell_type": "code",
   "execution_count": 11,
   "metadata": {},
   "outputs": [
    {
     "name": "stdout",
     "output_type": "stream",
     "text": [
      "Checking accuracy on test set\n",
      "Got 9732 / 10000 correct (97.32)\n"
     ]
    },
    {
     "data": {
      "text/plain": [
       "0.9732"
      ]
     },
     "execution_count": 11,
     "metadata": {},
     "output_type": "execute_result"
    }
   ],
   "source": [
    "check_accuracy(loader_test, model_fc)"
   ]
  },
  {
   "cell_type": "code",
   "execution_count": 12,
   "metadata": {
    "scrolled": false
   },
   "outputs": [
    {
     "name": "stdout",
     "output_type": "stream",
     "text": [
      "----------  Epoch 0  ----------\n",
      "\n",
      "Iteration 0: Loss = 2.3079636096954346\n",
      "Checking accuracy on validation set\n",
      "Got 314 / 3000 correct (10.47)\n",
      "\n",
      "Iteration 500: Loss = 0.04033396765589714\n",
      "Checking accuracy on validation set\n",
      "Got 2922 / 3000 correct (97.40)\n",
      "\n",
      "Checking accuracy on validation set\n",
      "Got 2936 / 3000 correct (97.87)\n",
      "----------  Epoch 1  ----------\n",
      "\n",
      "Iteration 0: Loss = 0.1829782873392105\n",
      "Checking accuracy on validation set\n",
      "Got 2937 / 3000 correct (97.90)\n",
      "\n",
      "Iteration 500: Loss = 0.024551454931497574\n",
      "Checking accuracy on validation set\n",
      "Got 2949 / 3000 correct (98.30)\n",
      "\n",
      "Checking accuracy on validation set\n",
      "Got 2953 / 3000 correct (98.43)\n",
      "----------  Epoch 2  ----------\n",
      "\n",
      "Iteration 0: Loss = 0.04468194767832756\n",
      "Checking accuracy on validation set\n",
      "Got 2954 / 3000 correct (98.47)\n",
      "\n",
      "Iteration 500: Loss = 0.10751316696405411\n",
      "Checking accuracy on validation set\n",
      "Got 2941 / 3000 correct (98.03)\n",
      "\n",
      "Checking accuracy on validation set\n",
      "Got 2959 / 3000 correct (98.63)\n",
      "----------  Epoch 3  ----------\n",
      "\n",
      "Iteration 0: Loss = 0.04216970503330231\n",
      "Checking accuracy on validation set\n",
      "Got 2957 / 3000 correct (98.57)\n",
      "\n",
      "Iteration 500: Loss = 0.07000000774860382\n",
      "Checking accuracy on validation set\n",
      "Got 2954 / 3000 correct (98.47)\n",
      "\n",
      "Checking accuracy on validation set\n",
      "Got 2959 / 3000 correct (98.63)\n",
      "----------  Epoch 4  ----------\n",
      "\n",
      "Iteration 0: Loss = 0.08380689471960068\n",
      "Checking accuracy on validation set\n",
      "Got 2957 / 3000 correct (98.57)\n",
      "\n",
      "Iteration 500: Loss = 0.022541454061865807\n",
      "Checking accuracy on validation set\n",
      "Got 2942 / 3000 correct (98.07)\n",
      "\n",
      "Checking accuracy on validation set\n",
      "Got 2962 / 3000 correct (98.73)\n",
      "----------  Epoch 5  ----------\n",
      "\n",
      "Iteration 0: Loss = 0.07542786002159119\n",
      "Checking accuracy on validation set\n",
      "Got 2965 / 3000 correct (98.83)\n",
      "\n",
      "Iteration 500: Loss = 0.12830008566379547\n",
      "Checking accuracy on validation set\n",
      "Got 2940 / 3000 correct (98.00)\n",
      "\n",
      "Checking accuracy on validation set\n",
      "Got 2939 / 3000 correct (97.97)\n",
      "----------  Epoch 6  ----------\n",
      "\n",
      "Iteration 0: Loss = 0.0429234616458416\n",
      "Checking accuracy on validation set\n",
      "Got 2943 / 3000 correct (98.10)\n",
      "\n",
      "Iteration 500: Loss = 0.1318214237689972\n",
      "Checking accuracy on validation set\n",
      "Got 2942 / 3000 correct (98.07)\n",
      "\n",
      "Checking accuracy on validation set\n",
      "Got 2957 / 3000 correct (98.57)\n",
      "----------  Epoch 7  ----------\n",
      "\n",
      "Iteration 0: Loss = 0.1047787293791771\n",
      "Checking accuracy on validation set\n",
      "Got 2958 / 3000 correct (98.60)\n",
      "\n",
      "Iteration 500: Loss = 0.02086230367422104\n",
      "Checking accuracy on validation set\n",
      "Got 2953 / 3000 correct (98.43)\n",
      "\n",
      "Checking accuracy on validation set\n",
      "Got 2946 / 3000 correct (98.20)\n",
      "----------  Epoch 8  ----------\n",
      "\n",
      "Iteration 0: Loss = 0.069166399538517\n",
      "Checking accuracy on validation set\n",
      "Got 2948 / 3000 correct (98.27)\n",
      "\n",
      "Iteration 500: Loss = 0.07348429411649704\n",
      "Checking accuracy on validation set\n",
      "Got 2958 / 3000 correct (98.60)\n",
      "\n",
      "Checking accuracy on validation set\n",
      "Got 2957 / 3000 correct (98.57)\n",
      "----------  Epoch 9  ----------\n",
      "\n",
      "Iteration 0: Loss = 0.025027615949511528\n",
      "Checking accuracy on validation set\n",
      "Got 2958 / 3000 correct (98.60)\n",
      "\n",
      "Iteration 500: Loss = 0.07817241549491882\n",
      "Checking accuracy on validation set\n",
      "Got 2948 / 3000 correct (98.27)\n",
      "\n",
      "Checking accuracy on validation set\n",
      "Got 2958 / 3000 correct (98.60)\n"
     ]
    }
   ],
   "source": [
    "loss_hist_conv, train_hist_conv, val_hist_conv = train_model(model_conv, conv_optim, loader_train, loader_val, epochs=10, print_every=500)"
   ]
  },
  {
   "cell_type": "code",
   "execution_count": 13,
   "metadata": {},
   "outputs": [
    {
     "data": {
      "image/png": "[encoded data removed]",
      "text/plain": [
       "<Figure size 432x288 with 1 Axes>"
      ]
     },
     "metadata": {
      "needs_background": "light"
     },
     "output_type": "display_data"
    },
    {
     "data": {
      "image/png": "[encoded data removed]",
      "text/plain": [
       "<Figure size 432x288 with 1 Axes>"
      ]
     },
     "metadata": {
      "needs_background": "light"
     },
     "output_type": "display_data"
    }
   ],
   "source": [
    "plt.figure(1)\n",
    "# plt.subplot(211)\n",
    "plt.plot(loss_hist_conv, label=\"Training Loss\")\n",
    "plt.legend(loc=\"upper right\")\n",
    "plt.ylabel(\"Loss\")\n",
    "plt.xlabel(\"Iterations\")\n",
    "plt.show()\n",
    "\n",
    "plt.figure(2)\n",
    "# plt.subplot(212)\n",
    "plt.plot(train_hist_conv, label=\"Train Accuracy\")\n",
    "plt.plot(val_hist_conv, label=\"Val Accuracy\")\n",
    "plt.legend(loc = \"upper left\")\n",
    "#plt.axis(ymin=0.0,ymax=1.0)\n",
    "plt.ylabel(\"Accuracy\")\n",
    "plt.xlabel(\"Epochs\")\n",
    "plt.show()"
   ]
  },
  {
   "cell_type": "code",
   "execution_count": 14,
   "metadata": {},
   "outputs": [
    {
     "name": "stdout",
     "output_type": "stream",
     "text": [
      "Checking accuracy on test set\n",
      "Got 9843 / 10000 correct (98.43)\n"
     ]
    },
    {
     "data": {
      "text/plain": [
       "0.9843"
      ]
     },
     "execution_count": 14,
     "metadata": {},
     "output_type": "execute_result"
    }
   ],
   "source": [
    "check_accuracy(loader_test, model_conv)"
   ]
  },
  {
   "cell_type": "code",
   "execution_count": 15,
   "metadata": {},
   "outputs": [],
   "source": [
    "transform = T.Compose([\n",
    "    T.ToTensor(),\n",
    "    T.Normalize((0.4), (0.2))\n",
    "])\n",
    "\n",
    "# Fashion MNIST has 70,000 images\n",
    "# We use 60,000 images. At test time, we will use the remaining 10,000 images.\n",
    "NUM_TRAIN = 57000\n",
    "\n",
    "fash_train = dset.FashionMNIST('./datasets', train=True, download=True,\n",
    "                             transform=transform)\n",
    "loader_train = DataLoader(fash_train, batch_size=64, \n",
    "                          sampler=sampler.SubsetRandomSampler(range(NUM_TRAIN)))\n",
    "\n",
    "fash_val = dset.FashionMNIST('./datasets', train=True, download=True,\n",
    "                           transform=transform)\n",
    "loader_val = DataLoader(fash_val, batch_size=64, \n",
    "                        sampler=sampler.SubsetRandomSampler(range(NUM_TRAIN, 60000)))\n",
    "\n",
    "fash_test = dset.FashionMNIST('./datasets', train=False, download=True, \n",
    "                            transform=transform)\n",
    "loader_test = DataLoader(fash_test, batch_size=64)\n",
    "\n",
    "for layer in model_fc.children():\n",
    "    if hasattr(layer, 'reset_parameters'):\n",
    "        layer.reset_parameters()\n",
    "for layer in model_conv.children():\n",
    "    if hasattr(layer, 'reset_parameters'):\n",
    "        layer.reset_parameters()"
   ]
  },
  {
   "cell_type": "code",
   "execution_count": 16,
   "metadata": {
    "scrolled": false
   },
   "outputs": [
    {
     "name": "stdout",
     "output_type": "stream",
     "text": [
      "----------  Epoch 0  ----------\n",
      "\n",
      "Iteration 0: Loss = 2.3499886989593506\n",
      "Checking accuracy on validation set\n",
      "Got 282 / 3000 correct (9.40)\n",
      "\n",
      "Iteration 500: Loss = 0.6413169503211975\n",
      "Checking accuracy on validation set\n",
      "Got 2406 / 3000 correct (80.20)\n",
      "\n",
      "Checking accuracy on validation set\n",
      "Got 2466 / 3000 correct (82.20)\n",
      "----------  Epoch 1  ----------\n",
      "\n",
      "Iteration 0: Loss = 0.518134355545044\n",
      "Checking accuracy on validation set\n",
      "Got 2459 / 3000 correct (81.97)\n",
      "\n",
      "Iteration 500: Loss = 0.42300945520401\n",
      "Checking accuracy on validation set\n",
      "Got 2517 / 3000 correct (83.90)\n",
      "\n",
      "Checking accuracy on validation set\n",
      "Got 2562 / 3000 correct (85.40)\n",
      "----------  Epoch 2  ----------\n",
      "\n",
      "Iteration 0: Loss = 0.26557379961013794\n",
      "Checking accuracy on validation set\n",
      "Got 2560 / 3000 correct (85.33)\n",
      "\n",
      "Iteration 500: Loss = 0.4397466778755188\n",
      "Checking accuracy on validation set\n",
      "Got 2569 / 3000 correct (85.63)\n",
      "\n",
      "Checking accuracy on validation set\n",
      "Got 2555 / 3000 correct (85.17)\n",
      "----------  Epoch 3  ----------\n",
      "\n",
      "Iteration 0: Loss = 0.3803849518299103\n",
      "Checking accuracy on validation set\n",
      "Got 2561 / 3000 correct (85.37)\n",
      "\n",
      "Iteration 500: Loss = 0.31292858719825745\n",
      "Checking accuracy on validation set\n",
      "Got 2584 / 3000 correct (86.13)\n",
      "\n",
      "Checking accuracy on validation set\n",
      "Got 2609 / 3000 correct (86.97)\n",
      "----------  Epoch 4  ----------\n",
      "\n",
      "Iteration 0: Loss = 0.36936476826667786\n",
      "Checking accuracy on validation set\n",
      "Got 2601 / 3000 correct (86.70)\n",
      "\n",
      "Iteration 500: Loss = 0.2829369902610779\n",
      "Checking accuracy on validation set\n",
      "Got 2613 / 3000 correct (87.10)\n",
      "\n",
      "Checking accuracy on validation set\n",
      "Got 2620 / 3000 correct (87.33)\n",
      "----------  Epoch 5  ----------\n",
      "\n",
      "Iteration 0: Loss = 0.39182254672050476\n",
      "Checking accuracy on validation set\n",
      "Got 2618 / 3000 correct (87.27)\n",
      "\n",
      "Iteration 500: Loss = 0.36889660358428955\n",
      "Checking accuracy on validation set\n",
      "Got 2620 / 3000 correct (87.33)\n",
      "\n",
      "Checking accuracy on validation set\n",
      "Got 2627 / 3000 correct (87.57)\n",
      "----------  Epoch 6  ----------\n",
      "\n",
      "Iteration 0: Loss = 0.2813577651977539\n",
      "Checking accuracy on validation set\n",
      "Got 2627 / 3000 correct (87.57)\n",
      "\n",
      "Iteration 500: Loss = 0.48624736070632935\n",
      "Checking accuracy on validation set\n",
      "Got 2625 / 3000 correct (87.50)\n",
      "\n",
      "Checking accuracy on validation set\n",
      "Got 2629 / 3000 correct (87.63)\n",
      "----------  Epoch 7  ----------\n",
      "\n",
      "Iteration 0: Loss = 0.338458389043808\n",
      "Checking accuracy on validation set\n",
      "Got 2626 / 3000 correct (87.53)\n",
      "\n",
      "Iteration 500: Loss = 0.35208091139793396\n",
      "Checking accuracy on validation set\n",
      "Got 2646 / 3000 correct (88.20)\n",
      "\n",
      "Checking accuracy on validation set\n",
      "Got 2643 / 3000 correct (88.10)\n",
      "----------  Epoch 8  ----------\n",
      "\n",
      "Iteration 0: Loss = 0.2777966260910034\n",
      "Checking accuracy on validation set\n",
      "Got 2634 / 3000 correct (87.80)\n",
      "\n",
      "Iteration 500: Loss = 0.45259836316108704\n",
      "Checking accuracy on validation set\n",
      "Got 2637 / 3000 correct (87.90)\n",
      "\n",
      "Checking accuracy on validation set\n",
      "Got 2658 / 3000 correct (88.60)\n",
      "----------  Epoch 9  ----------\n",
      "\n",
      "Iteration 0: Loss = 0.22353313863277435\n",
      "Checking accuracy on validation set\n",
      "Got 2654 / 3000 correct (88.47)\n",
      "\n",
      "Iteration 500: Loss = 0.4399155378341675\n",
      "Checking accuracy on validation set\n",
      "Got 2648 / 3000 correct (88.27)\n",
      "\n",
      "Checking accuracy on validation set\n",
      "Got 2643 / 3000 correct (88.10)\n"
     ]
    }
   ],
   "source": [
    "fc_optim = optim.SGD(model_fc.parameters(), lr=1e-3, momentum=0.9, nesterov=True)\n",
    "loss_hist_fc, train_hist_fc, val_hist_fc = train_model(model_fc, fc_optim, loader_train, loader_val, epochs=10, print_every=500)"
   ]
  },
  {
   "cell_type": "code",
   "execution_count": 17,
   "metadata": {},
   "outputs": [
    {
     "data": {
      "image/png": "[encoded data removed]",
      "text/plain": [
       "<Figure size 432x288 with 1 Axes>"
      ]
     },
     "metadata": {
      "needs_background": "light"
     },
     "output_type": "display_data"
    },
    {
     "data": {
      "image/png": "[encoded data removed]",
      "text/plain": [
       "<Figure size 432x288 with 1 Axes>"
      ]
     },
     "metadata": {
      "needs_background": "light"
     },
     "output_type": "display_data"
    }
   ],
   "source": [
    "plt.figure(1)\n",
    "# plt.subplot(211)\n",
    "plt.plot(loss_hist_fc, label=\"Training Loss\")\n",
    "plt.legend(loc=\"upper right\")\n",
    "plt.ylabel(\"Loss\")\n",
    "plt.xlabel(\"Iterations\")\n",
    "plt.show()\n",
    "\n",
    "plt.figure(2)\n",
    "# plt.subplot(212)\n",
    "plt.plot(train_hist_fc, label=\"Train Accuracy\")\n",
    "plt.plot(val_hist_fc, label=\"Val Accuracy\")\n",
    "plt.legend(loc = \"upper left\")\n",
    "#plt.axis(ymin=0.0,ymax=1.0)\n",
    "plt.ylabel(\"Accuracy\")\n",
    "plt.xlabel(\"Epochs\")\n",
    "plt.show()"
   ]
  },
  {
   "cell_type": "code",
   "execution_count": 18,
   "metadata": {},
   "outputs": [
    {
     "name": "stdout",
     "output_type": "stream",
     "text": [
      "Checking accuracy on test set\n",
      "Got 8728 / 10000 correct (87.28)\n"
     ]
    },
    {
     "data": {
      "text/plain": [
       "0.8728"
      ]
     },
     "execution_count": 18,
     "metadata": {},
     "output_type": "execute_result"
    }
   ],
   "source": [
    "check_accuracy(loader_test, model_fc)"
   ]
  },
  {
   "cell_type": "code",
   "execution_count": 19,
   "metadata": {
    "scrolled": false
   },
   "outputs": [
    {
     "name": "stdout",
     "output_type": "stream",
     "text": [
      "----------  Epoch 0  ----------\n",
      "\n",
      "Iteration 0: Loss = 2.309011697769165\n",
      "Checking accuracy on validation set\n",
      "Got 299 / 3000 correct (9.97)\n",
      "\n",
      "Iteration 500: Loss = 0.4423583149909973\n",
      "Checking accuracy on validation set\n",
      "Got 2345 / 3000 correct (78.17)\n",
      "\n",
      "Checking accuracy on validation set\n",
      "Got 2406 / 3000 correct (80.20)\n",
      "----------  Epoch 1  ----------\n",
      "\n",
      "Iteration 0: Loss = 0.5264251232147217\n",
      "Checking accuracy on validation set\n",
      "Got 2408 / 3000 correct (80.27)\n",
      "\n",
      "Iteration 500: Loss = 0.5999256372451782\n",
      "Checking accuracy on validation set\n",
      "Got 2512 / 3000 correct (83.73)\n",
      "\n",
      "Checking accuracy on validation set\n",
      "Got 2538 / 3000 correct (84.60)\n",
      "----------  Epoch 2  ----------\n",
      "\n",
      "Iteration 0: Loss = 0.46761876344680786\n",
      "Checking accuracy on validation set\n",
      "Got 2539 / 3000 correct (84.63)\n",
      "\n",
      "Iteration 500: Loss = 0.3932352364063263\n",
      "Checking accuracy on validation set\n",
      "Got 2589 / 3000 correct (86.30)\n",
      "\n",
      "Checking accuracy on validation set\n",
      "Got 2599 / 3000 correct (86.63)\n",
      "----------  Epoch 3  ----------\n",
      "\n",
      "Iteration 0: Loss = 0.3087700605392456\n",
      "Checking accuracy on validation set\n",
      "Got 2586 / 3000 correct (86.20)\n",
      "\n",
      "Iteration 500: Loss = 0.3781870901584625\n",
      "Checking accuracy on validation set\n",
      "Got 2624 / 3000 correct (87.47)\n",
      "\n",
      "Checking accuracy on validation set\n",
      "Got 2600 / 3000 correct (86.67)\n",
      "----------  Epoch 4  ----------\n",
      "\n",
      "Iteration 0: Loss = 0.3588234782218933\n",
      "Checking accuracy on validation set\n",
      "Got 2586 / 3000 correct (86.20)\n",
      "\n",
      "Iteration 500: Loss = 0.3718254268169403\n",
      "Checking accuracy on validation set\n",
      "Got 2647 / 3000 correct (88.23)\n",
      "\n",
      "Checking accuracy on validation set\n",
      "Got 2645 / 3000 correct (88.17)\n",
      "----------  Epoch 5  ----------\n",
      "\n",
      "Iteration 0: Loss = 0.2867202162742615\n",
      "Checking accuracy on validation set\n",
      "Got 2647 / 3000 correct (88.23)\n",
      "\n",
      "Iteration 500: Loss = 0.3578564524650574\n",
      "Checking accuracy on validation set\n",
      "Got 2654 / 3000 correct (88.47)\n",
      "\n",
      "Checking accuracy on validation set\n",
      "Got 2669 / 3000 correct (88.97)\n",
      "----------  Epoch 6  ----------\n",
      "\n",
      "Iteration 0: Loss = 0.38892287015914917\n",
      "Checking accuracy on validation set\n",
      "Got 2673 / 3000 correct (89.10)\n",
      "\n",
      "Iteration 500: Loss = 0.24362188577651978\n",
      "Checking accuracy on validation set\n",
      "Got 2678 / 3000 correct (89.27)\n",
      "\n",
      "Checking accuracy on validation set\n",
      "Got 2683 / 3000 correct (89.43)\n",
      "----------  Epoch 7  ----------\n",
      "\n",
      "Iteration 0: Loss = 0.36686158180236816\n",
      "Checking accuracy on validation set\n",
      "Got 2677 / 3000 correct (89.23)\n",
      "\n",
      "Iteration 500: Loss = 0.35255521535873413\n",
      "Checking accuracy on validation set\n",
      "Got 2680 / 3000 correct (89.33)\n",
      "\n",
      "Checking accuracy on validation set\n",
      "Got 2702 / 3000 correct (90.07)\n",
      "----------  Epoch 8  ----------\n",
      "\n",
      "Iteration 0: Loss = 0.3482166826725006\n",
      "Checking accuracy on validation set\n",
      "Got 2699 / 3000 correct (89.97)\n",
      "\n",
      "Iteration 500: Loss = 0.24567417800426483\n",
      "Checking accuracy on validation set\n",
      "Got 2717 / 3000 correct (90.57)\n",
      "\n",
      "Checking accuracy on validation set\n",
      "Got 2683 / 3000 correct (89.43)\n",
      "----------  Epoch 9  ----------\n",
      "\n",
      "Iteration 0: Loss = 0.2536756694316864\n",
      "Checking accuracy on validation set\n",
      "Got 2692 / 3000 correct (89.73)\n",
      "\n",
      "Iteration 500: Loss = 0.24667797982692719\n",
      "Checking accuracy on validation set\n",
      "Got 2709 / 3000 correct (90.30)\n",
      "\n",
      "Checking accuracy on validation set\n",
      "Got 2717 / 3000 correct (90.57)\n"
     ]
    }
   ],
   "source": [
    "conv_optim = optim.SGD(model_conv.parameters(), lr=1e-3, momentum=0.9, nesterov=True)\n",
    "loss_hist_conv, train_hist_conv, val_hist_conv = train_model(model_conv, conv_optim, loader_train, loader_val, epochs=10, print_every=500)"
   ]
  },
  {
   "cell_type": "code",
   "execution_count": 20,
   "metadata": {},
   "outputs": [
    {
     "data": {
      "image/png": "[encoded data removed]",
      "text/plain": [
       "<Figure size 432x288 with 1 Axes>"
      ]
     },
     "metadata": {
      "needs_background": "light"
     },
     "output_type": "display_data"
    },
    {
     "data": {
      "image/png": "[encoded data removed]",
      "text/plain": [
       "<Figure size 432x288 with 1 Axes>"
      ]
     },
     "metadata": {
      "needs_background": "light"
     },
     "output_type": "display_data"
    }
   ],
   "source": [
    "plt.figure(1)\n",
    "# plt.subplot(211)\n",
    "plt.plot(loss_hist_conv, label=\"Training Loss\")\n",
    "plt.legend(loc=\"upper right\")\n",
    "plt.ylabel(\"Loss\")\n",
    "plt.xlabel(\"Iterations\")\n",
    "plt.show()\n",
    "\n",
    "plt.figure(2)\n",
    "# plt.subplot(212)\n",
    "plt.plot(train_hist_conv, label=\"Train Accuracy\")\n",
    "plt.plot(val_hist_conv, label=\"Val Accuracy\")\n",
    "plt.legend(loc = \"upper left\")\n",
    "#plt.axis(ymin=0.0,ymax=1.0)\n",
    "plt.ylabel(\"Accuracy\")\n",
    "plt.xlabel(\"Epochs\")\n",
    "plt.show()"
   ]
  },
  {
   "cell_type": "code",
   "execution_count": 21,
   "metadata": {},
   "outputs": [
    {
     "name": "stdout",
     "output_type": "stream",
     "text": [
      "Checking accuracy on test set\n",
      "Got 8959 / 10000 correct (89.59)\n"
     ]
    },
    {
     "data": {
      "text/plain": [
       "0.8959"
      ]
     },
     "execution_count": 21,
     "metadata": {},
     "output_type": "execute_result"
    }
   ],
   "source": [
    "check_accuracy(loader_test, model_conv)"
   ]
  }
 ],
 "metadata": {
  "kernelspec": {
   "display_name": "Python 3",
   "language": "python",
   "name": "python3"
  },
  "language_info": {
   "codemirror_mode": {
    "name": "ipython",
    "version": 3
   },
   "file_extension": ".py",
   "mimetype": "text/x-python",
   "name": "python",
   "nbconvert_exporter": "python",
   "pygments_lexer": "ipython3",
   "version": "3.8.5"
  }
 },
 "nbformat": 4,
 "nbformat_minor": 4
}
